{
  "nbformat": 4,
  "nbformat_minor": 0,
  "metadata": {
    "colab": {
      "name": "Creational_Factory.ipynb",
      "provenance": [],
      "collapsed_sections": [],
      "authorship_tag": "ABX9TyMw/+7Ci/s49Fg+iRcDA+mq",
      "include_colab_link": true
    },
    "kernelspec": {
      "name": "python3",
      "display_name": "Python 3"
    },
    "language_info": {
      "name": "python"
    }
  },
  "cells": [
    {
      "cell_type": "markdown",
      "metadata": {
        "id": "view-in-github",
        "colab_type": "text"
      },
      "source": [
        "<a href=\"https://colab.research.google.com/github/vipulchhabra19/python-design-patterns/blob/main/Creational_Factory.ipynb\" target=\"_parent\"><img src=\"https://colab.research.google.com/assets/colab-badge.svg\" alt=\"Open In Colab\"/></a>"
      ]
    },
    {
      "cell_type": "markdown",
      "source": [
        "Factory Pattern is a creational pattern that defines an interface  for creating an object. it is used when you are not sure about the type of object you are going to create\n",
        "\n"
      ],
      "metadata": {
        "id": "kiXleXwE4v3-"
      }
    },
    {
      "cell_type": "code",
      "source": [
        "from abc import ABCMeta, abstractstaticmethod\n",
        "\n",
        "class IServer(metaclass=ABCMeta):\n",
        "\n",
        "  @abstractstaticmethod\n",
        "  def get_servers():\n",
        "    \"\"\" rettunr server hostname from hash or dict \"\"\"\n",
        "    pass\n",
        "\n",
        "class LinuxServers(IServer):\n",
        "\n",
        "  @staticmethod\n",
        "  def get_servers():\n",
        "    \"\"\" return all servers \"\"\"\n",
        "    return {\"dev\": \"gmatmd03.test.com\", \"prod\": \"cgaslprd.test.com\"}\n",
        "\n",
        "\n",
        "class WindowsServers(IServer):\n",
        "\n",
        "  window_servers = {\"dev\": \"lngslwd.test.com\", \"prod\": \"sgnsp.test.com\"}\n",
        "\n",
        "  @staticmethod\n",
        "  def get_servers():\n",
        "    \"\"\" return all servers \"\"\"\n",
        "    return WindowsServers.window_servers\n",
        "\n",
        "\n",
        "class OracleServers(IServer):\n",
        "\n",
        "  oracle_servers = {\"dev\": \"oracl1.test.com\", \"prod\": \"oracl1p.test.com\"}\n",
        "\n",
        "  @staticmethod\n",
        "  def get_servers():\n",
        "    \"\"\" return all servers \"\"\"\n",
        "    return OracleServers.oracle_servers\n",
        "\n",
        "class ServerFactory:\n",
        "\n",
        "  @staticmethod\n",
        "  def get_serv(servertype):\n",
        "    \"\"\" Returns object for concrete class \"\"\"\n",
        "    try:\n",
        "      print(servertype)\n",
        "      if servertype == \"Linux\":\n",
        "        return LinuxServers().get_servers()\n",
        "      elif servertype == \"Windows\":\n",
        "        return WindowsServers().get_servers()\n",
        "      elif servertype == \"Oracle\":\n",
        "        return OracleServers().get_servers()\n",
        "\n",
        "      raise AssertionError(\"Invalid Server Type\")\n",
        "    except AssertionError as e:\n",
        "      print(f\"Failed to get servers: Error: {e}\")\n",
        "\n",
        "\n",
        "\n",
        "\n"
      ],
      "metadata": {
        "id": "zhIhHQXE63DE"
      },
      "execution_count": 40,
      "outputs": []
    },
    {
      "cell_type": "markdown",
      "source": [
        "Get Servers Using ServerFactory class.\n"
      ],
      "metadata": {
        "id": "2sdAUXtS95jS"
      }
    },
    {
      "cell_type": "code",
      "source": [
        "linux_servers = ServerFactory().get_serv(\"Linux\")\n",
        "windows_servers = ServerFactory().get_serv(\"Windows\")\n",
        "oracle_servers = ServerFactory().get_serv(\"Oracle\")\n",
        "\n",
        "print(f\"linux_servers: {linux_servers}, \\n\\t Window Servers: {windows_servers} \\n\\t Oracle Servers {oracle_servers}\")"
      ],
      "metadata": {
        "colab": {
          "base_uri": "https://localhost:8080/"
        },
        "id": "W-yKp1tX9_Tj",
        "outputId": "25d77bcc-ea46-455a-b4c0-8ff1a1e63e91"
      },
      "execution_count": 41,
      "outputs": [
        {
          "output_type": "stream",
          "name": "stdout",
          "text": [
            "Linux\n",
            "Windows\n",
            "Oracle\n",
            "linux_servers: {'dev': 'gmatmd03.test.com', 'prod': 'cgaslprd.test.com'}, \n",
            "\t Window Servers: {'dev': 'lngslwd.test.com', 'prod': 'sgnsp.test.com'} \n",
            "\t Oracle Servers {'dev': 'oracl1.test.com', 'prod': 'oracl1p.test.com'}\n"
          ]
        }
      ]
    }
  ]
}